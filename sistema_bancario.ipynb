{
 "cells": [
  {
   "cell_type": "markdown",
   "metadata": {},
   "source": [
    "**Depósito: Somente valores positivos. Deve ser retornado em extrato\n",
    "\n",
    "**Saques: Somente 3 por dia. Máximo de 500 por saque. Caso não tenha saldo o sistema exibe uma mensagem. Deve ser retornado os saques em extrato\n",
    "\n",
    "**Extrato: Depósitos e Saques e no fim da listagem o saldo da conta. Deve-se usar o R$.\n",
    "\n",
    "**Estabelecer um limite de 10 transações diárias para a conta \n",
    "\n",
    "**Se o usuário tentar fazer uma transação após atingir o limite, deve ser informado que ele excedeu o número de transações permitidas para aquele dia.\n",
    "\n",
    "**Mostre no extrato, a data e hora de todas as transações\n",
    "\n"
   ]
  },
  {
   "cell_type": "markdown",
   "metadata": {},
   "source": [
    "'''\n",
    "Depósito: Somente valores positivos. Deve ser retornado em extrato\n",
    "Saques: Somente 3 por dia. Máximo de 500 por saque. Caso não tenha saldo o sistema exibe uma mensagem. Deve ser retornado os saques em extrato\n",
    "Extrato: Depósitos e Saques e no fim da listagem o saldo da conta. Deve-se usar o R$.\n",
    "\n",
    "'''\n",
    "         \n"
   ]
  },
  {
   "cell_type": "code",
   "execution_count": null,
   "metadata": {},
   "outputs": [],
   "source": [
    "from sistema_bancario import *\n",
    "\n",
    "while True:\n",
    "        print(\n",
    "            \"\"\"\n",
    "            ######MENU######\n",
    "\n",
    "            Selecione uma Opção:\n",
    "            [1] Criar Usuário\n",
    "            [2] Criar Conta Corrente\n",
    "            [3] Depositar\n",
    "            [4] Sacar\n",
    "            [5] Extrato\n",
    "            [6] Sair\n",
    "\n",
    "            \"\"\" \n",
    "        ) \n",
    "\n",
    "        option = int(input(\"Opção: \"))\n",
    "\n",
    "        if option == 6:\n",
    "            print('Saindo...')\n",
    "            break\n",
    "        elif option == 1:\n",
    "            name_user = input('Nome do Usuário: ')\n",
    "            data_nasc = input('Data de Nascimento: Ex: 01/01/2000: ')\n",
    "            cpf = input('CPF: Obs: somente números: ')\n",
    "            logradouro = input('Logradouro: Ex: Rua das Acaúbas, 123, Vila Nova, São Paulo, SP, 12345-678 \\n')\n",
    "            dt_criacao = dt_operacao\n",
    "            user = {'cpf': cpf,'nome': name_user, 'data_nasc':data_nasc, 'logradouro':logradouro}\n",
    "            print(criar_usuario(user))\n",
    "        elif option == 2:\n",
    "             cpf = input('CPF: Obs: somente números: ')\n",
    "             print(criar_conta_corrente(cpf))             \n",
    "        elif option == 3:\n",
    "            valor = float(input('Digite o valor para depósito: ')) \n",
    "            conta = input('Digite a conta: Ex: 1398-7: ')            \n",
    "            deposito(valor, conta)\n",
    "        elif option == 4:\n",
    "            valor = float(input('Digite o valor para saque: ')) \n",
    "            conta = input('Digite a conta: Ex: 1398-7: ')\n",
    "            print(saque(conta, valor))      \n",
    "        elif option == 5:\n",
    "            conta = input('Digite a conta: Ex: 1398-7: ')\n",
    "            tamanho = 5\n",
    "            result = extrato(conta)            \n",
    "            # Imprime as 5 ultimas operações\n",
    "            x = slice(5)\n",
    "            for value in result['historico'][x]: # Imprimindo o extrato com os 5 ultimos movimentos\n",
    "                print(f'{value[\"dt_operacao\"]} - {value[\"valor\"]} - {value[\"tipo\"]}')\n",
    "           \n",
    "           \n",
    "            print(f'O saldo total: R$ {result[\"saldo\"]}')\n",
    "             \n",
    "        else:\n",
    "            print('Opção inválida. Tente novamente.')                \n",
    "\n"
   ]
  }
 ],
 "metadata": {
  "kernelspec": {
   "display_name": "engenharia_dados_python",
   "language": "python",
   "name": "python3"
  },
  "language_info": {
   "codemirror_mode": {
    "name": "ipython",
    "version": 3
   },
   "file_extension": ".py",
   "mimetype": "text/x-python",
   "name": "python",
   "nbconvert_exporter": "python",
   "pygments_lexer": "ipython3",
   "version": "3.10.0"
  }
 },
 "nbformat": 4,
 "nbformat_minor": 2
}
